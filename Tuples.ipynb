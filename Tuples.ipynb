{
 "cells": [
  {
   "cell_type": "code",
   "execution_count": 4,
   "metadata": {},
   "outputs": [
    {
     "name": "stdout",
     "output_type": "stream",
     "text": [
      "roshan=>sate=>sreekar=>mohit=>churi=>sandeep=>"
     ]
    }
   ],
   "source": [
    "t1=(\"roshan\",\"sate\",\"sreekar\",\"mohit\",\"churi\",\"sandeep\")\n",
    "for i in range(len(t1)):\n",
    "    print(t1[i],end=\"=>\")"
   ]
  },
  {
   "cell_type": "code",
   "execution_count": 6,
   "metadata": {},
   "outputs": [
    {
     "name": "stdout",
     "output_type": "stream",
     "text": [
      "roshan=>sate=>sreekar=>mohit=>churi=>sandeep=>('roshan', 'sate', 'sreekar', 'mohit', 'churi', 'sandeep', 'roshan', 'sate', 'sreekar', 'mohit', 'churi', 'sandeep')\n"
     ]
    }
   ],
   "source": [
    "t1=(\"roshan\",\"sate\",\"sreekar\",\"mohit\",\"churi\",\"sandeep\")\n",
    "\n",
    "for i in range(len(t1)):\n",
    "    print(t1[i],end=\"=>\")\n",
    "t2=(\"roshan\",\"sate\",\"sreekar\",\"mohit\",\"churi\",\"sandeep\")\n",
    "t3=t1+t2\n",
    "print(t3)"
   ]
  },
  {
   "cell_type": "code",
   "execution_count": 8,
   "metadata": {},
   "outputs": [
    {
     "name": "stdout",
     "output_type": "stream",
     "text": [
      "user1[NAME]= Sandeep\n",
      "user1[EMAIL-ID]= akkalasandeep@gmail.com\n",
      "user1[AGE]= 18\n",
      "user1[MOBILE-NUMBER]= 9010012954\n"
     ]
    },
    {
     "data": {
      "text/plain": [
       "4"
      ]
     },
     "execution_count": 8,
     "metadata": {},
     "output_type": "execute_result"
    }
   ],
   "source": [
    "user1={'NAME':'Sandeep','AGE':'18','EMAIL-ID':'akkalasandeep@gmail.com','MOBILE-NUMBER':'9010012954'}\n",
    "print(\"user1[NAME]=\",user1['NAME'])\n",
    "print(\"user1[EMAIL-ID]=\",user1['EMAIL-ID'])\n",
    "print(\"user1[AGE]=\",user1['AGE'])\n",
    "print(\"user1[MOBILE-NUMBER]=\",user1['MOBILE-NUMBER'])\n",
    "len(user1)"
   ]
  },
  {
   "cell_type": "code",
   "execution_count": 17,
   "metadata": {},
   "outputs": [
    {
     "name": "stdout",
     "output_type": "stream",
     "text": [
      "dict_items([('NAME', 'Sandeep'), ('AGE', '18'), ('EMAIL-ID', 'akkalasandeep@gmail.com'), ('MOBILE-NUMBER', '9010012954')])\n",
      "{'NAME': 'Sandeep', 'AGE': '18', 'EMAIL-ID': 'akkalasandeep@gmail.com', 'MOBILE-NUMBER': '9010012954'}\n"
     ]
    }
   ],
   "source": [
    "user1={'NAME':'Sandeep','AGE':'18','EMAIL-ID':'akkalasandeep@gmail.com','MOBILE-NUMBER':'9010012954'}\n",
    "\n",
    "print(user1.items())\n",
    "print(user2)\n"
   ]
  },
  {
   "cell_type": "code",
   "execution_count": 15,
   "metadata": {},
   "outputs": [
    {
     "name": "stdout",
     "output_type": "stream",
     "text": [
      "NAME= Sandeep\n",
      "EMAIL-ID= akkalasandeep@gmail.com\n",
      "AGE= 18\n",
      "MOBILE-NUMBER= 9010012954\n",
      "{'NAME': 'Sandeep', 'AGE': '18', 'EMAIL-ID': 'akkalasandeep@gmail.com', 'MOBILE-NUMBER': '9010012954', 'ADDRESS': 'Hyderabad'}\n",
      "{'NAME': 'Sandeep', 'AGE': '18', 'EMAIL-ID': 'akkalasandeep@gmail.com', 'MOBILE-NUMBER': '9010012954'}\n"
     ]
    }
   ],
   "source": [
    "user1={'NAME':'Sandeep','AGE':'18','EMAIL-ID':'akkalasandeep@gmail.com','MOBILE-NUMBER':'9010012954'}\n",
    "user2=user1.copy()\n",
    "user1['NAME']='Sandeep'\n",
    "print(\"NAME=\",user1['NAME'])\n",
    "print(\"EMAIL-ID=\",user1['EMAIL-ID'])\n",
    "print(\"AGE=\",user1['AGE'])\n",
    "print(\"MOBILE-NUMBER=\",user1['MOBILE-NUMBER'])\n",
    "user1['ADDRESS']='Hyderabad'\n",
    "print(user1)\n",
    "print(user2)"
   ]
  },
  {
   "cell_type": "code",
   "execution_count": 11,
   "metadata": {},
   "outputs": [
    {
     "name": "stdout",
     "output_type": "stream",
     "text": [
      "NAME\n",
      "NAME\n"
     ]
    }
   ],
   "source": [
    "user1={'NAME':'Sandeep','AGE':'18','EMAIL-ID':'akkalasandeep@gmail.com','MOBILE-NUMBER':'9010012954'}\n",
    "lst=list(user1)\n",
    "print(lst[0])\n",
    "print(\"{0}\".format(lst[0]))"
   ]
  },
  {
   "cell_type": "code",
   "execution_count": 36,
   "metadata": {},
   "outputs": [
    {
     "name": "stdout",
     "output_type": "stream",
     "text": [
      "contact sandeep added\n",
      "contact sai added\n",
      "contact santosh added\n",
      "contact satya added\n",
      "sandeep : 7660077477\n",
      "sai : 8341990008\n",
      "santosh : 8074120152\n",
      "mohith does not exists\n",
      "2 contacts added successfully\n",
      "{'me': 9010090100, 'mine': 1295412954}me : is deleted from the contacts\n",
      "mine : is deleted from the contacts\n",
      "sai :updated with new phone number\n",
      "sandeep :updated with new phone number\n"
     ]
    }
   ],
   "source": [
    "contacts={}\n",
    "def addcontact(name,phone):\n",
    "    if name not in contacts:\n",
    "        contacts[name]=phone\n",
    "        print(\"contact %s added\" % name)\n",
    "    else:\n",
    "        print(\"contact %s alreaady exists\" % name)\n",
    "    return\n",
    "\n",
    "addcontact(\"sandeep\",7660077477)\n",
    "addcontact(\"sai\",8341990008)\n",
    "addcontact(\"santosh\",8074120152)\n",
    "addcontact(\"satya\",9010012954)\n",
    "\n",
    "def searchcontact(name):\n",
    "    if name in contacts:\n",
    "        print(name,\":\",contacts[name])\n",
    "    else:\n",
    "        print(\"%s does not exists\"% name)\n",
    "    return\n",
    "\n",
    "searchcontact(\"sandeep\")\n",
    "searchcontact(\"sai\")\n",
    "searchcontact(\"santosh\")\n",
    "searchcontact(\"mohith\")\n",
    "\n",
    "def importcontacts(newcontact):\n",
    "    contacts.update(newcontact)\n",
    "    print(len(newcontact.keys()),\"contacts added successfully\")\n",
    "    return\n",
    "newcontact={'me':9010090100,'mine':1295412954}\n",
    "importcontacts(newcontact)\n",
    "print(newcontact,end=\"\")\n",
    "\n",
    "def deletecontact(name):\n",
    "    if name in contacts:\n",
    "        del contacts[name]\n",
    "        print(name,\": is deleted from the contacts\")\n",
    "    else:\n",
    "        print(name,\"is not exists in the contacts\")\n",
    "    return\n",
    "deletecontact(\"me\")\n",
    "deletecontact(\"mine\")\n",
    "\n",
    "def updatecontact(name,phone):\n",
    "    if name in contacts:\n",
    "        contacts[name]=phone\n",
    "        print(name,\":updated with new phone number\")\n",
    "    else:\n",
    "        print(name,\"not exist in the contacts\")\n",
    "    return\n",
    "updatecontact(\"sai\",9440371295)\n",
    "updatecontact(\"sandeep\",7660077477)"
   ]
  },
  {
   "cell_type": "code",
   "execution_count": 41,
   "metadata": {},
   "outputs": [
    {
     "name": "stdout",
     "output_type": "stream",
     "text": [
      "value at : 1 value at : 2\n",
      "value at : 3 value at : 4\n"
     ]
    }
   ],
   "source": [
    "lst=[1,2,3,4]\n",
    "print(\"value at : {0} value at : {1}\".format(lst[0],lst[1]))\n",
    "print(\"value at : {0} value at : {1}\".format(lst[2],lst[3]))"
   ]
  },
  {
   "cell_type": "code",
   "execution_count": null,
   "metadata": {},
   "outputs": [],
   "source": []
  }
 ],
 "metadata": {
  "kernelspec": {
   "display_name": "Python 3",
   "language": "python",
   "name": "python3"
  },
  "language_info": {
   "codemirror_mode": {
    "name": "ipython",
    "version": 3
   },
   "file_extension": ".py",
   "mimetype": "text/x-python",
   "name": "python",
   "nbconvert_exporter": "python",
   "pygments_lexer": "ipython3",
   "version": "3.7.3"
  }
 },
 "nbformat": 4,
 "nbformat_minor": 2
}
